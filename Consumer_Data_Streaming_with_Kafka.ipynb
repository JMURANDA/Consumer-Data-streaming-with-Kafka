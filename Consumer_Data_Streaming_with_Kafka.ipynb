{
  "nbformat": 4,
  "nbformat_minor": 0,
  "metadata": {
    "colab": {
      "provenance": []
    },
    "kernelspec": {
      "name": "python3",
      "display_name": "Python 3"
    },
    "language_info": {
      "name": "python"
    }
  },
  "cells": [
    {
      "cell_type": "markdown",
      "source": [
        "Consumer "
      ],
      "metadata": {
        "id": "k6LAtxoBsmhV"
      }
    },
    {
      "cell_type": "code",
      "source": [
        "!pip install confluent-kafka"
      ],
      "metadata": {
        "colab": {
          "base_uri": "https://localhost:8080/"
        },
        "id": "Mf8nuBcUssSy",
        "outputId": "de6f187b-892c-4a01-de70-18edbec429eb"
      },
      "execution_count": 1,
      "outputs": [
        {
          "output_type": "stream",
          "name": "stdout",
          "text": [
            "Looking in indexes: https://pypi.org/simple, https://us-python.pkg.dev/colab-wheels/public/simple/\n",
            "Collecting confluent-kafka\n",
            "  Downloading confluent_kafka-2.1.1-cp310-cp310-manylinux_2_17_x86_64.manylinux2014_x86_64.whl (3.9 MB)\n",
            "\u001b[2K     \u001b[90m━━━━━━━━━━━━━━━━━━━━━━━━━━━━━━━━━━━━━━━━\u001b[0m \u001b[32m3.9/3.9 MB\u001b[0m \u001b[31m26.7 MB/s\u001b[0m eta \u001b[36m0:00:00\u001b[0m\n",
            "\u001b[?25hInstalling collected packages: confluent-kafka\n",
            "Successfully installed confluent-kafka-2.1.1\n"
          ]
        }
      ]
    },
    {
      "cell_type": "code",
      "source": [
        "from confluent_kafka import Consumer, KafkaException\n",
        "import json\n",
        "#Kafka consumer\n",
        "conf = {\n",
        "    'bootstrap.servers': 'pkc-6ojv2.us-west4.gcp.confluent.cloud:9092',\n",
        "    'security.protocol': 'SASL_SSL',\n",
        "    'sasl.mechanism': 'PLAIN',\n",
        "    'sasl.username': 'NV4PDLB3F6DUEKBR',\n",
        "    'sasl.password': '8toQ5+DrpuiHS3UiPHT37Jb3h3/gzCPAsCCDQPs3ihHhJmoNfjQzvzZTUbDqvGMi',\n",
        "    'group.id': 'telecoms',\n",
        "    'auto.offset.reset': 'earliest'  \n",
        "}\n",
        "\n",
        "consumer = Consumer(conf)\n",
        "\n",
        "\n",
        "topic = 'topic_0'\n",
        "consumer.subscribe([topic])\n",
        "\n",
        "try:\n",
        "    while True:\n",
        "        \n",
        "        msg = consumer.poll(1.0)  \n",
        "        \n",
        "        if msg is None:\n",
        "            continue\n",
        "        elif msg.error():\n",
        "            raise KafkaException(msg.error())\n",
        "        \n",
        "       \n",
        "        value = msg.value().decode('utf-8')\n",
        "        data = json.loads(value)\n",
        "        print('Received message:', data)\n",
        "        \n",
        "except KeyboardInterrupt:\n",
        "    pass\n",
        "\n",
        "finally:\n",
        "    \n",
        "    consumer.close()\n"
      ],
      "metadata": {
        "colab": {
          "base_uri": "https://localhost:8080/"
        },
        "id": "WCm-bxT-8WP2",
        "outputId": "d1e1242d-e93d-40f4-86a4-b20282c7e3b6"
      },
      "execution_count": 7,
      "outputs": [
        {
          "output_type": "stream",
          "name": "stdout",
          "text": [
            "Received message: {'transaction_id': '12345', 'sender_phone_number': '256777123456', 'receiver_phone_number': '256772987654', 'transaction_amount': 100000, 'transaction_time': '2023-04-19 12:00:00'}\n",
            "Received message: {'transaction_id': '12345', 'sender_phone_number': '256777123456', 'receiver_phone_number': '256772987654', 'transaction_amount': 100000, 'transaction_time': '2023-04-19 12:00:00'}\n",
            "Received message: {'transaction_id': '12345', 'sender_phone_number': '256777123456', 'receiver_phone_number': '256772987654', 'transaction_amount': 100000, 'transaction_time': '2023-04-19 12:00:00'}\n",
            "Received message: {'ordertime': 1497014222380, 'orderid': 18, 'itemid': 'Item_184', 'address': {'city': 'Mountain View', 'state': 'CA', 'zipcode': 94041}}\n"
          ]
        }
      ]
    }
  ]
}